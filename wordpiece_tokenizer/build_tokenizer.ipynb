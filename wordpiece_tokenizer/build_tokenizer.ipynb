{
 "cells": [
  {
   "cell_type": "code",
   "execution_count": 4,
   "id": "8901e6f5",
   "metadata": {},
   "outputs": [],
   "source": [
    "from tokenizers import (\n",
    "    decoders,\n",
    "    models,\n",
    "    normalizers,\n",
    "    pre_tokenizers,\n",
    "    processors,\n",
    "    trainers,\n",
    "    Tokenizer,\n",
    ")\n",
    "import json"
   ]
  },
  {
   "cell_type": "code",
   "execution_count": 5,
   "id": "ad3bfd7a",
   "metadata": {},
   "outputs": [],
   "source": [
    "tokenizer = Tokenizer(models.WordPiece(unk_token=\"[UNK]\"))"
   ]
  },
  {
   "cell_type": "code",
   "execution_count": 6,
   "id": "f96b6da4",
   "metadata": {},
   "outputs": [],
   "source": [
    "tokenizer.normalizer = normalizers.Sequence(\n",
    "    [normalizers.Lowercase(), normalizers.StripAccents()]\n",
    ")"
   ]
  },
  {
   "cell_type": "code",
   "execution_count": 7,
   "id": "06f0dda1",
   "metadata": {},
   "outputs": [
    {
     "data": {
      "text/plain": [
       "'türkiye çok güzel bir ülke.'"
      ]
     },
     "execution_count": 7,
     "metadata": {},
     "output_type": "execute_result"
    }
   ],
   "source": [
    "tokenizer.normalizer.normalize_str('Türkiye çok güzel bir ülke.')"
   ]
  },
  {
   "cell_type": "code",
   "execution_count": 8,
   "id": "bc810cc0",
   "metadata": {},
   "outputs": [],
   "source": [
    "tokenizer.pre_tokenizer = pre_tokenizers.Whitespace()"
   ]
  },
  {
   "cell_type": "code",
   "execution_count": 9,
   "id": "b0e96612",
   "metadata": {},
   "outputs": [
    {
     "data": {
      "text/plain": [
       "[('Türkiye', (0, 7)),\n",
       " ('çok', (8, 11)),\n",
       " ('güzel', (12, 17)),\n",
       " ('bir', (18, 21)),\n",
       " ('ülke', (22, 26)),\n",
       " ('.', (26, 27))]"
      ]
     },
     "execution_count": 9,
     "metadata": {},
     "output_type": "execute_result"
    }
   ],
   "source": [
    "tokenizer.pre_tokenizer.pre_tokenize_str(\"Türkiye çok güzel bir ülke.\")"
   ]
  },
  {
   "cell_type": "code",
   "execution_count": 10,
   "id": "50f13676",
   "metadata": {},
   "outputs": [],
   "source": [
    "special_tokens = [\"[PAD]\", \"[UNK]\"]\n",
    "v5 = 18812\n",
    "v3 = 24323\n",
    "v1=39275\n",
    "trainer = trainers.WordPieceTrainer(vocab_size=v1, special_tokens=special_tokens)"
   ]
  },
  {
   "cell_type": "code",
   "execution_count": 11,
   "id": "9b625047",
   "metadata": {},
   "outputs": [
    {
     "name": "stdout",
     "output_type": "stream",
     "text": [
      "\n",
      "\n",
      "\n"
     ]
    }
   ],
   "source": [
    "tokenizer.model = models.WordPiece(unk_token=\"[UNK]\")\n",
    "tokenizer.train([\"data/ms_coco_tokenizer_train_corpus.txt\"], trainer=trainer)"
   ]
  },
  {
   "cell_type": "code",
   "execution_count": 12,
   "id": "e60b9568",
   "metadata": {},
   "outputs": [],
   "source": [
    "tokenizer.save(\"data/wordpiece_tokenizer_1.json\")"
   ]
  },
  {
   "cell_type": "markdown",
   "id": "f6198992",
   "metadata": {},
   "source": [
    "####  Wrapper"
   ]
  },
  {
   "cell_type": "code",
   "execution_count": 90,
   "id": "10d06918",
   "metadata": {},
   "outputs": [],
   "source": [
    "from transformers import PreTrainedTokenizerFast\n",
    "\n",
    "wrapped_tokenizer = PreTrainedTokenizerFast(\n",
    "    tokenizer_object=tokenizer,\n",
    "    tokenizer_file=\"tokenizer.json\",\n",
    "    unk_token=\"[UNK]\",\n",
    "    pad_token=\"[PAD]\",\n",
    ")"
   ]
  },
  {
   "cell_type": "code",
   "execution_count": 92,
   "id": "c7a167f5",
   "metadata": {},
   "outputs": [
    {
     "data": {
      "text/plain": [
       "['türkiye', '##de', 'çok', 'güzel', 'bir', 'ülke', '.']"
      ]
     },
     "execution_count": 92,
     "metadata": {},
     "output_type": "execute_result"
    }
   ],
   "source": [
    "wrapped_tokenizer.tokenize('Türkiyede çok güzel bir ülke.')"
   ]
  },
  {
   "cell_type": "code",
   "execution_count": 96,
   "id": "38b7dc6b",
   "metadata": {},
   "outputs": [
    {
     "data": {
      "text/plain": [
       "{'input_ids': [[29662, 216], [9002, 132, 121, 8731, 1375]], 'token_type_ids': [[0, 0], [0, 0, 0, 0, 0]], 'attention_mask': [[1, 1], [1, 1, 1, 1, 1]]}"
      ]
     },
     "execution_count": 96,
     "metadata": {},
     "output_type": "execute_result"
    }
   ],
   "source": [
    "wrapped_tokenizer.batch_encode_plus()"
   ]
  },
  {
   "cell_type": "code",
   "execution_count": 99,
   "id": "f3a62c47",
   "metadata": {},
   "outputs": [
    {
     "data": {
      "text/plain": [
       "[[29662, 216, 0, 0, 0, 0, 0, 0, 0, 0, 0, 0, 0, 0, 0, 0],\n",
       " [9002, 132, 121, 8731, 1375, 0, 0, 0, 0, 0, 0, 0, 0, 0, 0, 0]]"
      ]
     },
     "execution_count": 99,
     "metadata": {},
     "output_type": "execute_result"
    }
   ],
   "source": [
    "wrapped_tokenizer.batch_encode_plus(['thisis ', 'wowo his is '], padding='max_length', max_length=16, \n",
    "                            truncation=True, add_special_tokens=True)['input_ids']"
   ]
  },
  {
   "cell_type": "code",
   "execution_count": 93,
   "id": "49aad127",
   "metadata": {},
   "outputs": [
    {
     "data": {
      "text/plain": [
       "[9420,\n",
       " 190,\n",
       " 502,\n",
       " 996,\n",
       " 179,\n",
       " 4413,\n",
       " 14,\n",
       " 0,\n",
       " 0,\n",
       " 0,\n",
       " 0,\n",
       " 0,\n",
       " 0,\n",
       " 0,\n",
       " 0,\n",
       " 0,\n",
       " 0,\n",
       " 0,\n",
       " 0,\n",
       " 0,\n",
       " 0,\n",
       " 0,\n",
       " 0,\n",
       " 0,\n",
       " 0,\n",
       " 0,\n",
       " 0,\n",
       " 0,\n",
       " 0,\n",
       " 0]"
      ]
     },
     "execution_count": 93,
     "metadata": {},
     "output_type": "execute_result"
    }
   ],
   "source": [
    "wrapped_tokenizer.encode('Türkiyede çok güzel bir ülke.', padding='max_length', max_length=30, truncation=True,\n",
    "                           add_special_tokens=False)"
   ]
  },
  {
   "cell_type": "code",
   "execution_count": 109,
   "id": "6ca33818",
   "metadata": {},
   "outputs": [],
   "source": [
    " tokenizer = PreTrainedTokenizerFast(\n",
    "    tokenizer_file=\"data/wordpiece_tokenizer.json\",\n",
    "    unk_token=\"[UNK]\",\n",
    "    pad_token=\"[PAD]\",\n",
    ")\n"
   ]
  },
  {
   "cell_type": "code",
   "execution_count": 110,
   "id": "46793b40",
   "metadata": {},
   "outputs": [
    {
     "data": {
      "text/plain": [
       "'turkye cok guzel'"
      ]
     },
     "execution_count": 110,
     "metadata": {},
     "output_type": "execute_result"
    }
   ],
   "source": [
    "tokenizer.decode(tokenizer.encode('turkye cok guzel'))"
   ]
  },
  {
   "cell_type": "code",
   "execution_count": 113,
   "id": "d48f399e",
   "metadata": {},
   "outputs": [],
   "source": [
    "rev = {val:key for key, val in tokenizer.vocab.items()}"
   ]
  },
  {
   "cell_type": "code",
   "execution_count": 114,
   "id": "ba5d5784",
   "metadata": {},
   "outputs": [
    {
     "data": {
      "text/plain": [
       "'[PAD]'"
      ]
     },
     "execution_count": 114,
     "metadata": {},
     "output_type": "execute_result"
    }
   ],
   "source": [
    "rev[0]"
   ]
  },
  {
   "cell_type": "code",
   "execution_count": 117,
   "id": "f50f576d",
   "metadata": {},
   "outputs": [
    {
     "data": {
      "text/plain": [
       "'7'"
      ]
     },
     "execution_count": 117,
     "metadata": {},
     "output_type": "execute_result"
    }
   ],
   "source": [
    "rev[23]"
   ]
  },
  {
   "cell_type": "code",
   "execution_count": 119,
   "id": "e6b04e17",
   "metadata": {},
   "outputs": [
    {
     "data": {
      "text/plain": [
       "14"
      ]
     },
     "execution_count": 119,
     "metadata": {},
     "output_type": "execute_result"
    }
   ],
   "source": [
    "tokenizer.vocab['.']"
   ]
  },
  {
   "cell_type": "code",
   "execution_count": 121,
   "id": "9d25e6a7",
   "metadata": {},
   "outputs": [],
   "source": [
    "i = [179, 633,  12, 633, 197, 633, 334, 179, 431,  14,   0,   0,   0,   0,\n",
    "           0,   0,   0,   0,   0,   0,   0,   0,   0,   0,   0,   0,   0,   0,\n",
    "           0,   0,   0,   0,   0,   0,   0,   0,   0,   0,   0,   0,   0,   0,\n",
    "           0,   0,   0,   0,   0,   0,   0,   0]"
   ]
  },
  {
   "cell_type": "code",
   "execution_count": 122,
   "id": "10b8ffec",
   "metadata": {},
   "outputs": [
    {
     "data": {
      "text/plain": [
       "'bir lavabo, lavabo ve lavabo bulunan bir banyo. [PAD] [PAD] [PAD] [PAD] [PAD] [PAD] [PAD] [PAD] [PAD] [PAD] [PAD] [PAD] [PAD] [PAD] [PAD] [PAD] [PAD] [PAD] [PAD] [PAD] [PAD] [PAD] [PAD] [PAD] [PAD] [PAD] [PAD] [PAD] [PAD] [PAD] [PAD] [PAD] [PAD] [PAD] [PAD] [PAD] [PAD] [PAD] [PAD] [PAD]'"
      ]
     },
     "execution_count": 122,
     "metadata": {},
     "output_type": "execute_result"
    }
   ],
   "source": [
    "tokenizer.decode(i)"
   ]
  },
  {
   "cell_type": "code",
   "execution_count": null,
   "id": "115ed299",
   "metadata": {},
   "outputs": [],
   "source": []
  }
 ],
 "metadata": {
  "kernelspec": {
   "display_name": "qu_ar",
   "language": "python",
   "name": "qu_ar"
  },
  "language_info": {
   "codemirror_mode": {
    "name": "ipython",
    "version": 3
   },
   "file_extension": ".py",
   "mimetype": "text/x-python",
   "name": "python",
   "nbconvert_exporter": "python",
   "pygments_lexer": "ipython3",
   "version": "3.9.13"
  }
 },
 "nbformat": 4,
 "nbformat_minor": 5
}
